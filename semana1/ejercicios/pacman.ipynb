{
 "cells": [
  {
   "cell_type": "markdown",
   "id": "cbd546fe-b201-435f-b8eb-29411a49199a",
   "metadata": {},
   "source": [
    "# Explorando agentes de aprendizaje por refuerzo en Pacman\n",
    "\n",
    "Ahora que ya conocemos las bases de los agentes de aprendeizaje por refuerzo y los diferentes componentes, vamos a explorar el potencial de los agentes de aprendizaje por refuerzo en uno de los ejemplos clásicos de esta área, los juegos de atari y en particular Pacman\n",
    "\n",
    "Para ello vamos a utilizar la implementación de Pacman de Berkeley para explorar algoritmos de aprendizaje. Pueden desarcar los archivos de este [link](http://ai.berkeley.edu/projects/release/reinforcement/v1/001/reinforcement.zip)\n",
    "\n",
    "Para ejecutar el progrma pueden ejecutar la terminal desde la carpeta donde se encuentren los archivos descomprimidos. La ejecución del agente se realiza utilizando el comando: `python pacman.py -p PacmanQAgent -x 2000 -n 2010 -l smallGrid -a epsilon=0.05, alpha=0.2, gamma=0.8`\n",
    "Este comando se encarga de ejecutar el progrma de Python `pacman.py` utilizando un agente de aprendizaje con refuerzo, donde los parametros indican lo siguiente:\n",
    "\n",
    "- `-x` representa la cantidad de iteraciones de entrenamiento\n",
    "- `-n` representa la cantidad total de operaciones\n",
    "- `-l` representa el ambiente a utilizar (en el ejemplo un tablero pequeño). Las opciones son `smallGrid`, `mediumGrid` y `mediumClassic`\n",
    "- `epsilon` representa el valor de aleatoridad en la fase de explotación del agente, que tanto se utiliza la información aprendida contra que tanto se buscan nuevos caminos con recompensas \"desconocidas\"\n",
    "- `alpha` representa la taza de aprendizaje, que define la relevancia de la nueva información (aprendida) sobre la información que se tenía anteriormente \n",
    "- `gamma` representa el valor de descuento del agente, que tanto valor se le da a las recompensas inmediatas sobre las recompensas futuras\n",
    "\n",
    "# Ejercicio\n",
    "\n",
    "Para este ejercicio debe correr el agente de pacman combinando diferentes parametros (`x`, `n`, `l`, `epsilon`, `alpha`, `gamma`) para observar el comportamiento del agente. ¿Qué conclusiones puede sacar del comportamiento y los distintos resultados del agente (Explique el comportamiento para cada combinación y discuta todos los resultados?"
   ]
  }
 ],
 "metadata": {
  "kernelspec": {
   "display_name": "Python 3 (ipykernel)",
   "language": "python",
   "name": "python3"
  },
  "language_info": {
   "codemirror_mode": {
    "name": "ipython",
    "version": 3
   },
   "file_extension": ".py",
   "mimetype": "text/x-python",
   "name": "python",
   "nbconvert_exporter": "python",
   "pygments_lexer": "ipython3",
   "version": "3.8.13"
  },
  "vscode": {
   "interpreter": {
    "hash": "31f2aee4e71d21fbe5cf8b01ff0e069b9275f58929596ceb00d14d90e3e16cd6"
   }
  }
 },
 "nbformat": 4,
 "nbformat_minor": 5
}
